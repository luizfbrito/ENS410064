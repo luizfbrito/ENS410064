{
 "cells": [
  {
   "cell_type": "markdown",
   "id": "fea1cddc-a5de-43e0-ae3c-27eed979ffdb",
   "metadata": {},
   "source": [
    "## Aula 02 - Python"
   ]
  },
  {
   "cell_type": "markdown",
   "id": "dc1f35a1-7148-4bb5-afba-56f89aed0421",
   "metadata": {},
   "source": [
    "#### Dados numéricos"
   ]
  },
  {
   "cell_type": "code",
   "execution_count": 1,
   "id": "6470057b-65bf-4935-8966-a010b8d87283",
   "metadata": {},
   "outputs": [
    {
     "name": "stdout",
     "output_type": "stream",
     "text": [
      "Valor de a = 1\n"
     ]
    },
    {
     "data": {
      "text/plain": [
       "int"
      ]
     },
     "execution_count": 1,
     "metadata": {},
     "output_type": "execute_result"
    }
   ],
   "source": [
    "# Variável interna\n",
    "a = 1\n",
    "print('Valor de a = '+str(a))\n",
    "type(a)"
   ]
  },
  {
   "cell_type": "code",
   "execution_count": 4,
   "id": "85a1634f-fc06-4b50-9c0e-a5bb106c7d70",
   "metadata": {},
   "outputs": [
    {
     "name": "stdout",
     "output_type": "stream",
     "text": [
      "1.0\n"
     ]
    },
    {
     "data": {
      "text/plain": [
       "float"
      ]
     },
     "execution_count": 4,
     "metadata": {},
     "output_type": "execute_result"
    }
   ],
   "source": [
    "# Variável dupla decisão\n",
    "b = 1.0\n",
    "print(b)\n",
    "type(b)"
   ]
  },
  {
   "cell_type": "code",
   "execution_count": 5,
   "id": "71169935-955c-4918-b977-5bf6a135b624",
   "metadata": {},
   "outputs": [
    {
     "name": "stdout",
     "output_type": "stream",
     "text": [
      "1\n"
     ]
    },
    {
     "data": {
      "text/plain": [
       "int"
      ]
     },
     "execution_count": 5,
     "metadata": {},
     "output_type": "execute_result"
    }
   ],
   "source": [
    "# Converter float para int\n",
    "c = int(b)\n",
    "print(c)\n",
    "type(c)"
   ]
  },
  {
   "cell_type": "code",
   "execution_count": 6,
   "id": "f4e72ff9-9391-4087-9b86-58992b2711dc",
   "metadata": {},
   "outputs": [
    {
     "name": "stdout",
     "output_type": "stream",
     "text": [
      "nan\n"
     ]
    },
    {
     "data": {
      "text/plain": [
       "float"
      ]
     },
     "execution_count": 6,
     "metadata": {},
     "output_type": "execute_result"
    }
   ],
   "source": [
    "# Declarando NaN\n",
    "import numpy as np\n",
    "d = np.nan\n",
    "print(d)\n",
    "type(d)"
   ]
  },
  {
   "cell_type": "code",
   "execution_count": 7,
   "id": "de7a8265-227d-4d87-b182-c16a13d4a77e",
   "metadata": {},
   "outputs": [
    {
     "name": "stdout",
     "output_type": "stream",
     "text": [
      "nan\n",
      "nan\n",
      "1.0\n"
     ]
    }
   ],
   "source": [
    "# Operação com NaN\n",
    "e = d*1\n",
    "print(e)\n",
    "e = d+1\n",
    "print(e)\n",
    "e = np.nansum([d,1])\n",
    "print(e)"
   ]
  },
  {
   "cell_type": "markdown",
   "id": "6d6eab58-c5e8-4792-85a2-1ccd51ef5750",
   "metadata": {},
   "source": [
    "#### Dados de texto"
   ]
  },
  {
   "cell_type": "code",
   "execution_count": 8,
   "id": "7dc7062f-d1ab-4013-8bcd-8f6733b86b4e",
   "metadata": {},
   "outputs": [
    {
     "name": "stdout",
     "output_type": "stream",
     "text": [
      "Fábio\n",
      "Gabriel\n",
      "FábioGabriel\n",
      "Fábio Gabriel\n"
     ]
    }
   ],
   "source": [
    "# Declaração de variável texto\n",
    "f = 'Fábio'\n",
    "g = 'Gabriel'\n",
    "print(f)\n",
    "print(g)\n",
    "print(f+g)\n",
    "print(f+' '+g)"
   ]
  },
  {
   "cell_type": "markdown",
   "id": "b9ccf341-b56c-40fa-8ca2-b4bd9815a72f",
   "metadata": {},
   "source": [
    "#### Dados tipo bool- lógica"
   ]
  },
  {
   "cell_type": "code",
   "execution_count": 9,
   "id": "1f261d24-acc6-466e-95a2-a3669c221f79",
   "metadata": {},
   "outputs": [
    {
     "data": {
      "text/plain": [
       "True"
      ]
     },
     "execution_count": 9,
     "metadata": {},
     "output_type": "execute_result"
    }
   ],
   "source": [
    "a == 1"
   ]
  },
  {
   "cell_type": "code",
   "execution_count": 10,
   "id": "dd730a26-6764-4021-a52a-5d4046a964ca",
   "metadata": {},
   "outputs": [
    {
     "name": "stdout",
     "output_type": "stream",
     "text": [
      "True\n"
     ]
    },
    {
     "data": {
      "text/plain": [
       "bool"
      ]
     },
     "execution_count": 10,
     "metadata": {},
     "output_type": "execute_result"
    }
   ],
   "source": [
    "h = (a==1)\n",
    "print(h)\n",
    "type(h)"
   ]
  },
  {
   "cell_type": "code",
   "execution_count": 11,
   "id": "d997abd4-66ff-43c8-b5d3-4f81623cd5c2",
   "metadata": {},
   "outputs": [
    {
     "data": {
      "text/plain": [
       "bool"
      ]
     },
     "execution_count": 11,
     "metadata": {},
     "output_type": "execute_result"
    }
   ],
   "source": [
    "i = True\n",
    "type(i)"
   ]
  },
  {
   "cell_type": "code",
   "execution_count": 12,
   "id": "0e9b2a64-f965-44c5-bdfc-1fabfedaba0b",
   "metadata": {},
   "outputs": [
    {
     "data": {
      "text/plain": [
       "str"
      ]
     },
     "execution_count": 12,
     "metadata": {},
     "output_type": "execute_result"
    }
   ],
   "source": [
    "ii = 'True'\n",
    "type(ii)"
   ]
  },
  {
   "cell_type": "markdown",
   "id": "97b14bdb-6bb2-44e3-aff8-bf1f73f57315",
   "metadata": {},
   "source": [
    "#### Operação de comparação"
   ]
  },
  {
   "cell_type": "code",
   "execution_count": 13,
   "id": "90500267-14b8-47eb-b464-a7e96ab3df36",
   "metadata": {},
   "outputs": [
    {
     "data": {
      "text/plain": [
       "True"
      ]
     },
     "execution_count": 13,
     "metadata": {},
     "output_type": "execute_result"
    }
   ],
   "source": [
    "# Operação ==\n",
    "a==b"
   ]
  },
  {
   "cell_type": "code",
   "execution_count": 14,
   "id": "2555a4d6-fd85-4f13-8d88-a975616fecd5",
   "metadata": {},
   "outputs": [
    {
     "data": {
      "text/plain": [
       "False"
      ]
     },
     "execution_count": 14,
     "metadata": {},
     "output_type": "execute_result"
    }
   ],
   "source": [
    "# Operação ><\n",
    "a>b"
   ]
  },
  {
   "cell_type": "code",
   "execution_count": 15,
   "id": "3bbeb6c5-e300-47e0-8307-8e22d2257146",
   "metadata": {},
   "outputs": [
    {
     "data": {
      "text/plain": [
       "False"
      ]
     },
     "execution_count": 15,
     "metadata": {},
     "output_type": "execute_result"
    }
   ],
   "source": [
    "# Operação !=\n",
    "a!=b"
   ]
  },
  {
   "cell_type": "code",
   "execution_count": 16,
   "id": "7956ccfd-6517-45ab-8b5c-e2739425ad2f",
   "metadata": {},
   "outputs": [
    {
     "data": {
      "text/plain": [
       "True"
      ]
     },
     "execution_count": 16,
     "metadata": {},
     "output_type": "execute_result"
    }
   ],
   "source": [
    "# Operação >= ou <=\n",
    "a>=b"
   ]
  },
  {
   "cell_type": "markdown",
   "id": "4a8eacea-cfea-4b09-a450-ec8a093a765f",
   "metadata": {},
   "source": [
    "#### Operações matemáticas"
   ]
  },
  {
   "cell_type": "code",
   "execution_count": 17,
   "id": "c7782b87-a559-4ea5-85ae-58807707be81",
   "metadata": {},
   "outputs": [
    {
     "data": {
      "text/plain": [
       "2.0"
      ]
     },
     "execution_count": 17,
     "metadata": {},
     "output_type": "execute_result"
    }
   ],
   "source": [
    "# Soma\n",
    "a+b"
   ]
  },
  {
   "cell_type": "code",
   "execution_count": 18,
   "id": "aa2b553c-4d10-4622-b68d-f5ff762da8b7",
   "metadata": {},
   "outputs": [
    {
     "name": "stdout",
     "output_type": "stream",
     "text": [
      "2.0\n"
     ]
    }
   ],
   "source": [
    "# Soma e atribui valor\n",
    "ab = a+b\n",
    "print(ab)"
   ]
  },
  {
   "cell_type": "code",
   "execution_count": 20,
   "id": "f9a80a37-fdd5-491f-991c-9017361a86fb",
   "metadata": {},
   "outputs": [
    {
     "name": "stdout",
     "output_type": "stream",
     "text": [
      "Não use l como nome de variável\n",
      "1.0\n"
     ]
    }
   ],
   "source": [
    "# Multiplicação\n",
    "l = a*b # Não use l como variável\n",
    "print(\"Não use l como nome de variável\")\n",
    "j = a*b\n",
    "print(j)"
   ]
  },
  {
   "cell_type": "code",
   "execution_count": 21,
   "id": "dce28d7e-0ceb-4d77-b45b-79b947db1f7e",
   "metadata": {},
   "outputs": [
    {
     "data": {
      "text/plain": [
       "1.0"
      ]
     },
     "execution_count": 21,
     "metadata": {},
     "output_type": "execute_result"
    }
   ],
   "source": [
    "# Divisão\n",
    "a/b"
   ]
  },
  {
   "cell_type": "code",
   "execution_count": 22,
   "id": "cb17ca7a-b5f4-4bdc-bd21-7171d3abb215",
   "metadata": {},
   "outputs": [
    {
     "data": {
      "text/plain": [
       "25"
      ]
     },
     "execution_count": 22,
     "metadata": {},
     "output_type": "execute_result"
    }
   ],
   "source": [
    "# Potência\n",
    "5**2"
   ]
  },
  {
   "cell_type": "code",
   "execution_count": 23,
   "id": "be705090-da13-4d4c-94db-b2ffe8c3db89",
   "metadata": {},
   "outputs": [
    {
     "data": {
      "text/plain": [
       "22026.465794806718"
      ]
     },
     "execution_count": 23,
     "metadata": {},
     "output_type": "execute_result"
    }
   ],
   "source": [
    "# Operações matemáticas com a biblioteca math\n",
    "import math\n",
    "\n",
    "math.exp(10)"
   ]
  },
  {
   "cell_type": "code",
   "execution_count": 24,
   "id": "0a48d60a-fbf2-41d4-8573-7c880edd85b6",
   "metadata": {},
   "outputs": [
    {
     "data": {
      "text/plain": [
       "1.0"
      ]
     },
     "execution_count": 24,
     "metadata": {},
     "output_type": "execute_result"
    }
   ],
   "source": [
    "math.exp(0)"
   ]
  },
  {
   "cell_type": "code",
   "execution_count": 25,
   "id": "1d975acb-a546-44e1-a7ee-efc777c78007",
   "metadata": {},
   "outputs": [
    {
     "data": {
      "text/plain": [
       "2.718281828459045"
      ]
     },
     "execution_count": 25,
     "metadata": {},
     "output_type": "execute_result"
    }
   ],
   "source": [
    "math.exp(a)"
   ]
  },
  {
   "cell_type": "code",
   "execution_count": 26,
   "id": "87135fba-5241-4b46-8e6e-5bb35b84453c",
   "metadata": {},
   "outputs": [
    {
     "data": {
      "text/plain": [
       "4.5399929762484854e-05"
      ]
     },
     "execution_count": 26,
     "metadata": {},
     "output_type": "execute_result"
    }
   ],
   "source": [
    "math.exp(-10)"
   ]
  },
  {
   "cell_type": "code",
   "execution_count": 27,
   "id": "4d3b6fb6-ab98-4d46-841c-a6e99b8ae564",
   "metadata": {},
   "outputs": [
    {
     "data": {
      "text/plain": [
       "0.0"
      ]
     },
     "execution_count": 27,
     "metadata": {},
     "output_type": "execute_result"
    }
   ],
   "source": [
    "import math as mt\n",
    "mt.log(c)"
   ]
  },
  {
   "cell_type": "code",
   "execution_count": 28,
   "id": "68d7919c-d9c2-498f-9132-d1c9b8f4291d",
   "metadata": {},
   "outputs": [
    {
     "data": {
      "text/plain": [
       "2.0"
      ]
     },
     "execution_count": 28,
     "metadata": {},
     "output_type": "execute_result"
    }
   ],
   "source": [
    "mt.log10(100)"
   ]
  },
  {
   "cell_type": "markdown",
   "id": "c772eb78-3e1a-4fce-9915-5b8d54a59b30",
   "metadata": {},
   "source": [
    "#### Listas"
   ]
  },
  {
   "cell_type": "code",
   "execution_count": 29,
   "id": "d9e094ad-f921-44ec-a09f-aa0238ffbdc1",
   "metadata": {},
   "outputs": [
    {
     "name": "stdout",
     "output_type": "stream",
     "text": [
      "[1, 2, 3]\n"
     ]
    }
   ],
   "source": [
    "myFirstList = [1,2,3]\n",
    "print(myFirstList)"
   ]
  },
  {
   "cell_type": "code",
   "execution_count": 30,
   "id": "1ffb8c9c-a027-4b37-8018-e213f1eed8b6",
   "metadata": {},
   "outputs": [
    {
     "name": "stdout",
     "output_type": "stream",
     "text": [
      "1\n",
      "3\n"
     ]
    }
   ],
   "source": [
    "# Acessando valores da lista pelo index\n",
    "print(myFirstList[0])\n",
    "print(myFirstList[2])"
   ]
  },
  {
   "cell_type": "code",
   "execution_count": 32,
   "id": "f6d7b85a-4fa0-43b1-b023-7270b41e62e0",
   "metadata": {},
   "outputs": [
    {
     "data": {
      "text/plain": [
       "False"
      ]
     },
     "execution_count": 32,
     "metadata": {},
     "output_type": "execute_result"
    }
   ],
   "source": [
    "myFirstList==a"
   ]
  },
  {
   "cell_type": "code",
   "execution_count": 34,
   "id": "98978903-bff2-47b6-92b9-7ef42dd29a63",
   "metadata": {},
   "outputs": [
    {
     "data": {
      "text/plain": [
       "True"
      ]
     },
     "execution_count": 34,
     "metadata": {},
     "output_type": "execute_result"
    }
   ],
   "source": [
    "myFirstList[0]==a"
   ]
  },
  {
   "cell_type": "code",
   "execution_count": 35,
   "id": "27dd7fd9-4d6d-437f-97f7-0700cfd32524",
   "metadata": {},
   "outputs": [
    {
     "name": "stdout",
     "output_type": "stream",
     "text": [
      "[1, 1, 'c']\n"
     ]
    }
   ],
   "source": [
    "mySecList = [1,a,'c']\n",
    "print(mySecList)"
   ]
  },
  {
   "cell_type": "code",
   "execution_count": 36,
   "id": "96066e30-1b22-4706-af9a-ac53df78b9b1",
   "metadata": {},
   "outputs": [
    {
     "data": {
      "text/plain": [
       "list"
      ]
     },
     "execution_count": 36,
     "metadata": {},
     "output_type": "execute_result"
    }
   ],
   "source": [
    "type(mySecList)"
   ]
  },
  {
   "cell_type": "code",
   "execution_count": 37,
   "id": "e8fb385d-7ac2-4e6f-a21c-965d920e4e61",
   "metadata": {},
   "outputs": [
    {
     "data": {
      "text/plain": [
       "str"
      ]
     },
     "execution_count": 37,
     "metadata": {},
     "output_type": "execute_result"
    }
   ],
   "source": [
    "type(mySecList[2])"
   ]
  },
  {
   "cell_type": "code",
   "execution_count": 38,
   "id": "293bfc0d-e939-4a09-98e5-982ce3b3a946",
   "metadata": {},
   "outputs": [
    {
     "data": {
      "text/plain": [
       "int"
      ]
     },
     "execution_count": 38,
     "metadata": {},
     "output_type": "execute_result"
    }
   ],
   "source": [
    "type(mySecList[1])"
   ]
  },
  {
   "cell_type": "markdown",
   "id": "85c88bb7-4f7e-43e6-a557-82d6db2d704d",
   "metadata": {},
   "source": [
    "#### Caminhos path"
   ]
  },
  {
   "cell_type": "code",
   "execution_count": 40,
   "id": "99a349f5-c878-4335-9848-070feb34c3af",
   "metadata": {},
   "outputs": [
    {
     "name": "stdout",
     "output_type": "stream",
     "text": [
      "C:\\ENS410064\n"
     ]
    }
   ],
   "source": [
    "path = r\"C:\\ENS410064\"\n",
    "print(path)"
   ]
  },
  {
   "cell_type": "code",
   "execution_count": 41,
   "id": "edf0f05a-2e18-4ca3-9bde-20d1f53a9cf7",
   "metadata": {},
   "outputs": [
    {
     "name": "stdout",
     "output_type": "stream",
     "text": [
      "C:/ENS410064\n"
     ]
    }
   ],
   "source": [
    "path = \"C:/ENS410064\"\n",
    "print(path)"
   ]
  },
  {
   "cell_type": "code",
   "execution_count": 42,
   "id": "f6329ed8-415b-4f67-8ff4-5a137f31d9c5",
   "metadata": {},
   "outputs": [
    {
     "data": {
      "text/plain": [
       "['.git', '.gitignore', 'dados', 'pyenv', 'README.md', 'scripts']"
      ]
     },
     "execution_count": 42,
     "metadata": {},
     "output_type": "execute_result"
    }
   ],
   "source": [
    "import os\n",
    "# Listar arquivos na pasta\n",
    "os.listdir(path)"
   ]
  },
  {
   "cell_type": "code",
   "execution_count": 43,
   "id": "bf10bc4a-1bf1-422c-909f-c9b84b7a71d1",
   "metadata": {},
   "outputs": [
    {
     "data": {
      "text/plain": [
       "'.git'"
      ]
     },
     "execution_count": 43,
     "metadata": {},
     "output_type": "execute_result"
    }
   ],
   "source": [
    "# Selecionar primeiro arquivo listado\n",
    "os.listdir(path)[0]"
   ]
  },
  {
   "cell_type": "code",
   "execution_count": 46,
   "id": "8282836a-82d2-431c-afdc-6f1c55b9e4b8",
   "metadata": {},
   "outputs": [
    {
     "data": {
      "text/plain": [
       "'C:/ENS410064/.git'"
      ]
     },
     "execution_count": 46,
     "metadata": {},
     "output_type": "execute_result"
    }
   ],
   "source": [
    "# Concatenando caminhos\n",
    "path+\"/\"+os.listdir(path)[0]"
   ]
  },
  {
   "cell_type": "code",
   "execution_count": 47,
   "id": "6caf67c8-273a-4555-aa13-cb1c1a0f19fa",
   "metadata": {},
   "outputs": [
    {
     "data": {
      "text/plain": [
       "['COMMIT_EDITMSG',\n",
       " 'config',\n",
       " 'description',\n",
       " 'FETCH_HEAD',\n",
       " 'HEAD',\n",
       " 'hooks',\n",
       " 'index',\n",
       " 'info',\n",
       " 'logs',\n",
       " 'objects',\n",
       " 'packed-refs',\n",
       " 'refs']"
      ]
     },
     "execution_count": 47,
     "metadata": {},
     "output_type": "execute_result"
    }
   ],
   "source": [
    "# Listando caminho concatenado\n",
    "os.listdir(path+\"/\"+os.listdir(path)[0])"
   ]
  },
  {
   "cell_type": "code",
   "execution_count": 48,
   "id": "c8709e6f-60f0-4dc3-8c18-496aa7c2e44d",
   "metadata": {},
   "outputs": [
    {
     "data": {
      "text/plain": [
       "'C:\\\\ENS410064\\\\pyenv\\\\Scripts'"
      ]
     },
     "execution_count": 48,
     "metadata": {},
     "output_type": "execute_result"
    }
   ],
   "source": [
    "# Diretório que estou trabalhando\n",
    "os.getcwd()"
   ]
  },
  {
   "cell_type": "code",
   "execution_count": 51,
   "id": "2feddee1-9257-4f4b-b368-33dc2836cae1",
   "metadata": {},
   "outputs": [],
   "source": [
    "# Mudar diretório para o caminho\n",
    "os.chdir('C:\\\\ENS410064\\\\')"
   ]
  },
  {
   "cell_type": "code",
   "execution_count": 52,
   "id": "e050ff30-eb59-4fa6-a164-9ed089efd0dc",
   "metadata": {},
   "outputs": [
    {
     "data": {
      "text/plain": [
       "'C:\\\\ENS410064'"
      ]
     },
     "execution_count": 52,
     "metadata": {},
     "output_type": "execute_result"
    }
   ],
   "source": [
    "os.getcwd()"
   ]
  },
  {
   "cell_type": "code",
   "execution_count": 55,
   "id": "1ee200c1-8685-4087-85c9-e32b28b1ce8b",
   "metadata": {},
   "outputs": [
    {
     "name": "stdout",
     "output_type": "stream",
     "text": [
      "diretório já existe\n"
     ]
    }
   ],
   "source": [
    "# Criando um diretório\n",
    "new_path = os.getcwd()+'/test'\n",
    "\n",
    "if os.path.isdir(new_path):\n",
    "    print('diretório já existe')\n",
    "else:\n",
    "    print('Criando diretório '+new_path)\n",
    "    os.mkdir(new_path)"
   ]
  },
  {
   "cell_type": "code",
   "execution_count": 56,
   "id": "90793bdc-8531-45ec-94c0-9468cddee73b",
   "metadata": {},
   "outputs": [
    {
     "name": "stdout",
     "output_type": "stream",
     "text": [
      "Criando diretório C:\\ENS410064/test2\n"
     ]
    }
   ],
   "source": [
    "# Criando diretório\n",
    "new_path = os.getcwd()+'/test2'\n",
    "\n",
    "if os.path.isdir(new_path):\n",
    "    print('diretório já existe')\n",
    "    # Criando um arquivo de texto\n",
    "    with open(new_path+\"/copy.txt\", \"w\") as file:\n",
    "        file.write(\"Your text goes here\")\n",
    "else:\n",
    "    print('Criando diretório '+new_path)\n",
    "    os.mkdir(new_path)\n",
    "    with open(new_path+\"/copy.txt\", \"w\") as file:\n",
    "        file.write(\"Your text goes here\")"
   ]
  },
  {
   "cell_type": "markdown",
   "id": "3ced9c8f-67ef-4505-9142-c3a606cf6be8",
   "metadata": {},
   "source": [
    "#### Numpy arrays e Pandas DataFrames"
   ]
  },
  {
   "cell_type": "code",
   "execution_count": 57,
   "id": "fc387b41-f355-4ad3-b41f-1a5ac5a762c5",
   "metadata": {},
   "outputs": [
    {
     "data": {
      "text/plain": [
       "numpy.ndarray"
      ]
     },
     "execution_count": 57,
     "metadata": {},
     "output_type": "execute_result"
    }
   ],
   "source": [
    "import numpy as np\n",
    "# Criando uma variável numpy\n",
    "n = np.array(0)\n",
    "type(n)"
   ]
  },
  {
   "cell_type": "code",
   "execution_count": 58,
   "id": "a028cb56-94d2-4ccd-969c-d164a6511611",
   "metadata": {},
   "outputs": [
    {
     "name": "stdout",
     "output_type": "stream",
     "text": [
      "[ 1  2  3 10 20 55]\n"
     ]
    }
   ],
   "source": [
    "# Criando uma variável numpy a partir de uma lista\n",
    "myThirdList=[1,2,3,10,20,55]\n",
    "n = np.array(myThirdList)\n",
    "print(n)"
   ]
  },
  {
   "cell_type": "code",
   "execution_count": 59,
   "id": "6e44ad83-8135-434d-bf60-2bf120b5df15",
   "metadata": {},
   "outputs": [
    {
     "name": "stdout",
     "output_type": "stream",
     "text": [
      "[[0.61925465 0.47803441 0.88228811 0.93138177 0.3516238  0.82563617\n",
      "  0.81384879 0.31577856 0.70022452 0.49733427]\n",
      " [0.30508169 0.27313306 0.94072359 0.87298845 0.34883234 0.69711044\n",
      "  0.68239197 0.14334892 0.54279846 0.42435009]\n",
      " [0.17963869 0.67053609 0.43065188 0.5147145  0.41453588 0.4501154\n",
      "  0.25357557 0.82442576 0.85061628 0.00935682]\n",
      " [0.56622612 0.75788681 0.02450688 0.03846165 0.26853096 0.36163203\n",
      "  0.88267675 0.58755759 0.93755121 0.93516554]\n",
      " [0.74583722 0.09253341 0.86992458 0.57891334 0.99400499 0.89291288\n",
      "  0.1945554  0.02784618 0.99322562 0.01827539]\n",
      " [0.71318031 0.97889505 0.42658135 0.26014773 0.40482264 0.48859183\n",
      "  0.1131529  0.80214611 0.3106451  0.59015493]\n",
      " [0.86248047 0.82901615 0.52246126 0.39305458 0.6602678  0.82629949\n",
      "  0.2903827  0.80062446 0.38748066 0.90054494]\n",
      " [0.66936897 0.72732273 0.01298366 0.36106393 0.82074988 0.52545018\n",
      "  0.72380931 0.20269189 0.29216774 0.84223492]\n",
      " [0.92378474 0.76981679 0.88477248 0.60307269 0.1537943  0.45363166\n",
      "  0.86528759 0.52779871 0.89389053 0.59000829]\n",
      " [0.18353134 0.81970151 0.3446802  0.22158436 0.05862258 0.32817605\n",
      "  0.44914724 0.78220056 0.38499328 0.81871356]]\n",
      "(10, 10)\n"
     ]
    }
   ],
   "source": [
    "# Criando uma matriz de 10x10 de números aleatórios entre 0 e 1\n",
    "n = np.random.rand(10,10)\n",
    "print(n)\n",
    "# Dimensões da matriz\n",
    "print(n.shape)"
   ]
  },
  {
   "cell_type": "code",
   "execution_count": 63,
   "id": "6276ebac-ba2a-41f0-898a-6b5916ed0262",
   "metadata": {},
   "outputs": [
    {
     "data": {
      "text/plain": [
       "array([0.3516238 , 0.82563617, 0.81384879, 0.31577856, 0.70022452,\n",
       "       0.49733427])"
      ]
     },
     "execution_count": 63,
     "metadata": {},
     "output_type": "execute_result"
    }
   ],
   "source": [
    "# Acessando valores da matriz\n",
    "n[0,:] # acessa primeira linha e todas as colunas\n",
    "n[:,0] # todas as colunas e primeria linha\n",
    "n[:,1:5] # todas linhas e as colunas de 2 a 5\n",
    "n[0,1:5] # primeira linha e as colunas de 2 a 5\n",
    "n[0,-1] # último valor da primeiro linha\n",
    "n[0,4:-1] # primeira linha e a coluna 5 até a penúltima coluna\n",
    "n[0,4:] # primeira linha e a coluna 5 até a última coluna\n"
   ]
  },
  {
   "cell_type": "code",
   "execution_count": 64,
   "id": "b706c887-e2cc-4858-8503-54e9d54f7351",
   "metadata": {},
   "outputs": [
    {
     "name": "stdout",
     "output_type": "stream",
     "text": [
      "[[ 1.13019921  0.87136536  1.48420129  1.53835189  0.56424448  1.41783683\n",
      "   1.40345722  0.45672384  1.25308366  0.91094501]\n",
      " [ 0.42226223  0.31164171  1.54833199  1.47360495  0.55627404  1.24862648\n",
      "   1.22728687 -0.3330357   0.99842072  0.75224144]\n",
      " [-0.1073698   1.20976016  0.76698269  0.94529501  0.72884217  0.81118663\n",
      "   0.23734451  1.41636973  1.44764375 -3.06221204]\n",
      " [ 1.04067614  1.33221669 -2.09936365 -1.64865585  0.29464886  0.59230983\n",
      "   1.48464168  1.0776569   1.54495401  1.54240619]\n",
      " [ 1.31619001 -0.77074759  1.47008915  1.06283543  1.60342486  1.49617165\n",
      "  -0.02760042 -1.97162162  1.60264048 -2.3927619 ]\n",
      " [ 1.27141691  1.58810707  0.75748573  0.2629323   0.70513168  0.89321006\n",
      "  -0.5695774   1.3889734   0.44033374  1.08206772]\n",
      " [ 1.46149513  1.42192227  0.96023348  0.67563111  1.19432815  1.41863993\n",
      "   0.37288234  1.38707463  0.66134857  1.50468271]\n",
      " [ 1.20801806  1.29105293 -2.73462607  0.59073766  1.41190104  0.96593801\n",
      "   1.28621061  0.01336967  0.37901073  1.43774161]\n",
      " [ 1.53016172  1.34783519  1.48701316  1.10372037 -0.26270136  0.81896817\n",
      "   1.46474455  0.97039761  1.49726595  1.08181922]\n",
      " [-0.08593194  1.4106229   0.54429966  0.10248601 -1.22719735  0.49523282\n",
      "   0.8090334   1.36379381  0.65490851  1.40941691]]\n"
     ]
    }
   ],
   "source": [
    "an = np.log(n*5)\n",
    "print(an)"
   ]
  },
  {
   "cell_type": "code",
   "execution_count": null,
   "id": "2dafccbb-88aa-4bbe-894d-e27e8093aae4",
   "metadata": {},
   "outputs": [],
   "source": []
  }
 ],
 "metadata": {
  "kernelspec": {
   "display_name": "Python 3 (ipykernel)",
   "language": "python",
   "name": "python3"
  },
  "language_info": {
   "codemirror_mode": {
    "name": "ipython",
    "version": 3
   },
   "file_extension": ".py",
   "mimetype": "text/x-python",
   "name": "python",
   "nbconvert_exporter": "python",
   "pygments_lexer": "ipython3",
   "version": "3.11.5"
  }
 },
 "nbformat": 4,
 "nbformat_minor": 5
}

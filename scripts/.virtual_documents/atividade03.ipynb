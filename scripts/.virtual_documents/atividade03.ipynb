





# Carregar pacotes

import matplotlib.pyplot as plt
import geopandas as gpd
import rasterio
import rioxarray as rioxr
from rasterio.mask import mask
from rasterio.features import geometry_mask
from rasterstats import zonal_stats


path = 'C:/ENS410064/dados/brutos/atividade03'


br = gpd.read_file(path+'/'+'BR_Municipios_2022/BR_Municipios_2022.shp')
fig,ax = plt.subplots()
br.plot(ax=ax)


sc = br[br['SIGLA_UF']=='SC']
sc.plot()


fln = br[br['NM_MUN']=='Florianópolis']
fln.plot()


# Salve o 'fln' como um Shapefile
shapefile_path = path+'/'+'FLN/polygonFLN.shp'
fln.to_file(shapefile_path)


cwb = br[br['NM_MUN']=='Curitiba']
cwb.plot()


dataset = rasterio.open(path+'/'+'LandUse_Sentinel2_2021_2022.tif')


dataRaster = rioxr.open_rasterio(path+'/'+'LandUse_Sentinel2_2021_2022.tif')
dataRaster.shape


#clipped = dataRaster.rio.clip(br[br['NM_MUN']=='Florianópolis'].geometry.buffer(1))





# Caminho para o shapefile que define a área de interesse
shapefile_path = path +'/'+'Lagoa/BAciaLagoa.shp'

# Caminho para o arquivo de raster
raster_path = path+'/'+'LandUse_Sentinel2_2021_2022.tif'

# Carregue o shapefile
gdf = gpd.read_file(shapefile_path)

# Abra o arquivo de raster
with rasterio.open(raster_path) as src:
    # Realize o recorte do raster usando as geometrias do shapefile
    out_image, out_transform = mask(src, gdf.geometry, crop=True)
    out_meta = src.meta.copy()

# Caminho para salvar o novo arquivo raster recortado
output_path = path+'/'+'raster_recortado_lagoaPeri.tif'

# Salve o novo arquivo raster recortado
with rasterio.open(output_path, 'w', **out_meta) as dest:
    dest.write(out_image)





# Abra o arquivo raster
with rasterio.open(path+'/'+'LandUse_Sentinel2_2021_2022.tif') as src:
    # Leia os dados raster e a transformação espacial
    data = src.read(1)  # Lê a primeira banda do raster
    transform = src.transform

# Visualize os dados raster
plt.figure(figsize=(8, 8))
plt.imshow(data, cmap='viridis', extent=(transform[2], transform[2] + data.shape[1] * transform[0], transform[5] + data.shape[0] * transform[4], transform[5]))
plt.colorbar(label='Valor do Pixel')
plt.title('Visualização do Raster')
plt.show()





# Caminho para o shapefile que define a área de interesse
shapefile_path = path+'/'+'FLN/polygonFLN.shp'

# Caminho para o arquivo de raster
raster_path = path+'/'+'MapBiomas/brasil_coverage_2022.tif'

# Carregue o shapefile
fln = gpd.read_file(shapefile_path)

# Abra o arquivo de raster
with rasterio.open(raster_path) as src:
    # Realize o recorte do raster usando as geometrias do shapefile
    out_image, out_transform = mask(src, fln.geometry, crop=True)
    out_meta = src.meta.copy()

# Caminho para salvar o novo arquivo raster recortado
#output_path = path+'/'+'raster_recortado_FLN.tif'

# Salve o novo arquivo raster recortado
#with rasterio.open(output_path, 'w', **out_meta) as dest:
    #dest.write(out_image)


dataRaster = rioxr.open_rasterio(path+'/'+'MapBiomas/brasil_coverage_2022.tif')
#clipped = dataRaster.rio.clip(br[br['NM_MUN']=='Florianópolis'].geometry.buffer(1))


# Caminho para o shapefile que define a área de interesse
shapefile_path = path+'/'+'FLN/polygonFLN.shp'

# Caminho para o arquivo de raster
raster_path = path+'/'+'LandUse_Sentinel2_2021_2022.tif'

# Carregue o shapefile
fln = gpd.read_file(shapefile_path)

# Abra o arquivo de raster
with rasterio.open(raster_path) as src:
    # Realize o recorte do raster usando as geometrias do shapefile
    out_image, out_transform = mask(src, fln.geometry, crop=True)
    out_meta = src.meta.copy()

# Caminho para salvar o novo arquivo raster recortado
output_path = path+'/'+'raster_recortado_FLN.tif'

# Salve o novo arquivo raster recortado
with rasterio.open(output_path, 'w', **out_meta) as dest:
    dest.write(out_image)
